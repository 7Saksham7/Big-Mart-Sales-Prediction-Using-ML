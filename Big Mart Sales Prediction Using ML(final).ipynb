{
 "cells": [
  {
   "cell_type": "code",
   "execution_count": 1,
   "id": "0561f8c0",
   "metadata": {},
   "outputs": [
    {
     "name": "stdout",
     "output_type": "stream",
     "text": [
      "Requirement already satisfied: evalml in c:\\users\\saksham rajvanshi\\anaconda3\\lib\\site-packages (0.74.0)\n",
      "Requirement already satisfied: woodwork>=0.22.0 in c:\\users\\saksham rajvanshi\\anaconda3\\lib\\site-packages (from evalml) (0.23.0)\n",
      "Requirement already satisfied: dask!=2022.10.1,>=2022.2.0 in c:\\users\\saksham rajvanshi\\anaconda3\\lib\\site-packages (from evalml) (2023.4.0)\n",
      "Requirement already satisfied: matplotlib>=3.3.3 in c:\\users\\saksham rajvanshi\\anaconda3\\lib\\site-packages (from evalml) (3.5.1)\n",
      "Requirement already satisfied: pmdarima>=1.8.5 in c:\\users\\saksham rajvanshi\\anaconda3\\lib\\site-packages (from evalml) (2.0.3)\n",
      "Requirement already satisfied: xgboost>=1.7.0 in c:\\users\\saksham rajvanshi\\anaconda3\\lib\\site-packages (from evalml) (1.7.5)\n",
      "Requirement already satisfied: lime>=0.2.0.1 in c:\\users\\saksham rajvanshi\\anaconda3\\lib\\site-packages (from evalml) (0.2.0.1)\n",
      "Requirement already satisfied: scikit-optimize>=0.9.0 in c:\\users\\saksham rajvanshi\\anaconda3\\lib\\site-packages (from evalml) (0.9.0)\n",
      "Requirement already satisfied: lightgbm>=2.3.1 in c:\\users\\saksham rajvanshi\\anaconda3\\lib\\site-packages (from evalml) (3.3.5)\n",
      "Requirement already satisfied: click>=8.0.0 in c:\\users\\saksham rajvanshi\\anaconda3\\lib\\site-packages (from evalml) (8.0.4)\n",
      "Requirement already satisfied: pyzmq>=20.0.0 in c:\\users\\saksham rajvanshi\\anaconda3\\lib\\site-packages (from evalml) (22.3.0)\n",
      "Requirement already satisfied: ipywidgets<8.0.5,>=7.5 in c:\\users\\saksham rajvanshi\\anaconda3\\lib\\site-packages (from evalml) (7.6.5)\n",
      "Requirement already satisfied: black[jupyter]>=22.3.0 in c:\\users\\saksham rajvanshi\\anaconda3\\lib\\site-packages (from evalml) (23.3.0)\n",
      "Requirement already satisfied: scikit-learn>=1.2.2 in c:\\users\\saksham rajvanshi\\anaconda3\\lib\\site-packages (from evalml) (1.2.2)\n",
      "Requirement already satisfied: pandas>=1.5.0 in c:\\users\\saksham rajvanshi\\anaconda3\\lib\\site-packages (from evalml) (1.5.3)\n",
      "Requirement already satisfied: statsmodels>=0.12.2 in c:\\users\\saksham rajvanshi\\anaconda3\\lib\\site-packages (from evalml) (0.13.2)\n",
      "Requirement already satisfied: plotly>=5.0.0 in c:\\users\\saksham rajvanshi\\anaconda3\\lib\\site-packages (from evalml) (5.6.0)\n",
      "Requirement already satisfied: packaging>=23.0 in c:\\users\\saksham rajvanshi\\anaconda3\\lib\\site-packages (from evalml) (23.1)\n",
      "Requirement already satisfied: colorama>=0.4.4 in c:\\users\\saksham rajvanshi\\anaconda3\\lib\\site-packages (from evalml) (0.4.4)\n",
      "Requirement already satisfied: networkx>=2.6 in c:\\users\\saksham rajvanshi\\anaconda3\\lib\\site-packages (from evalml) (2.7.1)\n",
      "Requirement already satisfied: seaborn>=0.11.1 in c:\\users\\saksham rajvanshi\\anaconda3\\lib\\site-packages (from evalml) (0.11.2)\n",
      "Requirement already satisfied: tomli>=2.0.1 in c:\\users\\saksham rajvanshi\\anaconda3\\lib\\site-packages (from evalml) (2.0.1)\n",
      "Requirement already satisfied: sktime==0.17.0 in c:\\users\\saksham rajvanshi\\anaconda3\\lib\\site-packages (from evalml) (0.17.0)\n",
      "Requirement already satisfied: shap>=0.40.0 in c:\\users\\saksham rajvanshi\\anaconda3\\lib\\site-packages (from evalml) (0.41.0)\n",
      "Requirement already satisfied: featuretools>=1.16.0 in c:\\users\\saksham rajvanshi\\anaconda3\\lib\\site-packages (from evalml) (1.25.0)\n",
      "Requirement already satisfied: catboost>=1.1.1 in c:\\users\\saksham rajvanshi\\anaconda3\\lib\\site-packages (from evalml) (1.1.1)\n",
      "Requirement already satisfied: holidays<0.21,>=0.13 in c:\\users\\saksham rajvanshi\\anaconda3\\lib\\site-packages (from evalml) (0.20)\n",
      "Requirement already satisfied: nlp-primitives>=2.9.0 in c:\\users\\saksham rajvanshi\\anaconda3\\lib\\site-packages (from evalml) (2.11.0)\n",
      "Requirement already satisfied: vowpalwabbit>=8.11.0 in c:\\users\\saksham rajvanshi\\anaconda3\\lib\\site-packages (from evalml) (9.8.0)\n",
      "Requirement already satisfied: scipy>=1.5.0 in c:\\users\\saksham rajvanshi\\anaconda3\\lib\\site-packages (from evalml) (1.7.3)\n",
      "Requirement already satisfied: cloudpickle>=1.5.0 in c:\\users\\saksham rajvanshi\\anaconda3\\lib\\site-packages (from evalml) (2.0.0)\n",
      "Requirement already satisfied: kaleido>=0.1.0 in c:\\users\\saksham rajvanshi\\anaconda3\\lib\\site-packages (from evalml) (0.2.1)\n",
      "Requirement already satisfied: category-encoders<=2.5.1.post0,>=2.2.2 in c:\\users\\saksham rajvanshi\\anaconda3\\lib\\site-packages (from evalml) (2.5.1.post0)\n",
      "Requirement already satisfied: imbalanced-learn>=0.9.1 in c:\\users\\saksham rajvanshi\\anaconda3\\lib\\site-packages (from evalml) (0.10.1)\n",
      "Requirement already satisfied: numpy>=1.21.0 in c:\\users\\saksham rajvanshi\\anaconda3\\lib\\site-packages (from evalml) (1.21.5)\n",
      "Requirement already satisfied: texttable>=1.6.2 in c:\\users\\saksham rajvanshi\\anaconda3\\lib\\site-packages (from evalml) (1.6.7)\n",
      "Requirement already satisfied: deprecated>=1.2.13 in c:\\users\\saksham rajvanshi\\anaconda3\\lib\\site-packages (from sktime==0.17.0->evalml) (1.2.13)\n",
      "Requirement already satisfied: numba>=0.53 in c:\\users\\saksham rajvanshi\\anaconda3\\lib\\site-packages (from sktime==0.17.0->evalml) (0.55.1)\n",
      "Requirement already satisfied: platformdirs>=2 in c:\\users\\saksham rajvanshi\\anaconda3\\lib\\site-packages (from black[jupyter]>=22.3.0->evalml) (3.4.0)\n",
      "Requirement already satisfied: typing-extensions>=3.10.0.0 in c:\\users\\saksham rajvanshi\\anaconda3\\lib\\site-packages (from black[jupyter]>=22.3.0->evalml) (4.5.0)\n",
      "Requirement already satisfied: pathspec>=0.9.0 in c:\\users\\saksham rajvanshi\\anaconda3\\lib\\site-packages (from black[jupyter]>=22.3.0->evalml) (0.11.1)\n",
      "Requirement already satisfied: mypy-extensions>=0.4.3 in c:\\users\\saksham rajvanshi\\anaconda3\\lib\\site-packages (from black[jupyter]>=22.3.0->evalml) (0.4.3)\n",
      "Requirement already satisfied: tokenize-rt>=3.2.0 in c:\\users\\saksham rajvanshi\\anaconda3\\lib\\site-packages (from black[jupyter]>=22.3.0->evalml) (5.0.0)\n",
      "Requirement already satisfied: ipython>=7.8.0 in c:\\users\\saksham rajvanshi\\anaconda3\\lib\\site-packages (from black[jupyter]>=22.3.0->evalml) (8.2.0)\n",
      "Requirement already satisfied: graphviz in c:\\users\\saksham rajvanshi\\anaconda3\\lib\\site-packages (from catboost>=1.1.1->evalml) (0.20.1)\n",
      "Requirement already satisfied: six in c:\\users\\saksham rajvanshi\\anaconda3\\lib\\site-packages (from catboost>=1.1.1->evalml) (1.16.0)\n",
      "Requirement already satisfied: patsy>=0.5.1 in c:\\users\\saksham rajvanshi\\anaconda3\\lib\\site-packages (from category-encoders<=2.5.1.post0,>=2.2.2->evalml) (0.5.2)\n",
      "Requirement already satisfied: toolz>=0.8.2 in c:\\users\\saksham rajvanshi\\anaconda3\\lib\\site-packages (from dask!=2022.10.1,>=2022.2.0->evalml) (0.11.2)\n",
      "Requirement already satisfied: pyyaml>=5.3.1 in c:\\users\\saksham rajvanshi\\anaconda3\\lib\\site-packages (from dask!=2022.10.1,>=2022.2.0->evalml) (6.0)\n",
      "Requirement already satisfied: importlib-metadata>=4.13.0 in c:\\users\\saksham rajvanshi\\anaconda3\\lib\\site-packages (from dask!=2022.10.1,>=2022.2.0->evalml) (6.6.0)\n",
      "Requirement already satisfied: partd>=1.2.0 in c:\\users\\saksham rajvanshi\\anaconda3\\lib\\site-packages (from dask!=2022.10.1,>=2022.2.0->evalml) (1.2.0)\n",
      "Requirement already satisfied: fsspec>=0.6.0 in c:\\users\\saksham rajvanshi\\anaconda3\\lib\\site-packages (from dask!=2022.10.1,>=2022.2.0->evalml) (2022.2.0)\n",
      "Requirement already satisfied: wrapt<2,>=1.10 in c:\\users\\saksham rajvanshi\\anaconda3\\lib\\site-packages (from deprecated>=1.2.13->sktime==0.17.0->evalml) (1.12.1)\n",
      "Requirement already satisfied: tqdm>=4.32.0 in c:\\users\\saksham rajvanshi\\anaconda3\\lib\\site-packages (from featuretools>=1.16.0->evalml) (4.64.0)\n",
      "Requirement already satisfied: distributed>=2022.11.1 in c:\\users\\saksham rajvanshi\\anaconda3\\lib\\site-packages (from featuretools>=1.16.0->evalml) (2023.4.0)\n",
      "Requirement already satisfied: psutil>=5.6.6 in c:\\users\\saksham rajvanshi\\anaconda3\\lib\\site-packages (from featuretools>=1.16.0->evalml) (5.8.0)\n",
      "Requirement already satisfied: tblib>=1.6.0 in c:\\users\\saksham rajvanshi\\anaconda3\\lib\\site-packages (from distributed>=2022.11.1->featuretools>=1.16.0->evalml) (1.7.0)\n",
      "Requirement already satisfied: locket>=1.0.0 in c:\\users\\saksham rajvanshi\\anaconda3\\lib\\site-packages (from distributed>=2022.11.1->featuretools>=1.16.0->evalml) (1.0.0)\n",
      "Requirement already satisfied: jinja2>=2.10.3 in c:\\users\\saksham rajvanshi\\anaconda3\\lib\\site-packages (from distributed>=2022.11.1->featuretools>=1.16.0->evalml) (2.11.3)\n",
      "Requirement already satisfied: zict>=2.2.0 in c:\\users\\saksham rajvanshi\\anaconda3\\lib\\site-packages (from distributed>=2022.11.1->featuretools>=1.16.0->evalml) (3.0.0)\n",
      "Requirement already satisfied: tornado>=6.0.3 in c:\\users\\saksham rajvanshi\\anaconda3\\lib\\site-packages (from distributed>=2022.11.1->featuretools>=1.16.0->evalml) (6.1)\n",
      "Requirement already satisfied: sortedcontainers>=2.0.5 in c:\\users\\saksham rajvanshi\\anaconda3\\lib\\site-packages (from distributed>=2022.11.1->featuretools>=1.16.0->evalml) (2.4.0)\n",
      "Requirement already satisfied: urllib3>=1.24.3 in c:\\users\\saksham rajvanshi\\anaconda3\\lib\\site-packages (from distributed>=2022.11.1->featuretools>=1.16.0->evalml) (1.26.9)\n",
      "Requirement already satisfied: msgpack>=1.0.0 in c:\\users\\saksham rajvanshi\\anaconda3\\lib\\site-packages (from distributed>=2022.11.1->featuretools>=1.16.0->evalml) (1.0.2)\n",
      "Requirement already satisfied: korean-lunar-calendar in c:\\users\\saksham rajvanshi\\anaconda3\\lib\\site-packages (from holidays<0.21,>=0.13->evalml) (0.3.1)\n",
      "Requirement already satisfied: convertdate>=2.3.0 in c:\\users\\saksham rajvanshi\\anaconda3\\lib\\site-packages (from holidays<0.21,>=0.13->evalml) (2.4.0)\n",
      "Requirement already satisfied: hijri-converter in c:\\users\\saksham rajvanshi\\anaconda3\\lib\\site-packages (from holidays<0.21,>=0.13->evalml) (2.3.1)\n",
      "Requirement already satisfied: python-dateutil in c:\\users\\saksham rajvanshi\\anaconda3\\lib\\site-packages (from holidays<0.21,>=0.13->evalml) (2.8.2)\n",
      "Requirement already satisfied: PyMeeus in c:\\users\\saksham rajvanshi\\anaconda3\\lib\\site-packages (from holidays<0.21,>=0.13->evalml) (0.5.12)\n",
      "Requirement already satisfied: joblib>=1.1.1 in c:\\users\\saksham rajvanshi\\anaconda3\\lib\\site-packages (from imbalanced-learn>=0.9.1->evalml) (1.2.0)\n",
      "Requirement already satisfied: threadpoolctl>=2.0.0 in c:\\users\\saksham rajvanshi\\anaconda3\\lib\\site-packages (from imbalanced-learn>=0.9.1->evalml) (2.2.0)\n",
      "Requirement already satisfied: zipp>=0.5 in c:\\users\\saksham rajvanshi\\anaconda3\\lib\\site-packages (from importlib-metadata>=4.13.0->dask!=2022.10.1,>=2022.2.0->evalml) (3.7.0)\n",
      "Requirement already satisfied: decorator in c:\\users\\saksham rajvanshi\\anaconda3\\lib\\site-packages (from ipython>=7.8.0->black[jupyter]>=22.3.0->evalml) (5.1.1)\n",
      "Requirement already satisfied: prompt-toolkit!=3.0.0,!=3.0.1,<3.1.0,>=2.0.0 in c:\\users\\saksham rajvanshi\\anaconda3\\lib\\site-packages (from ipython>=7.8.0->black[jupyter]>=22.3.0->evalml) (3.0.20)\n",
      "Requirement already satisfied: stack-data in c:\\users\\saksham rajvanshi\\anaconda3\\lib\\site-packages (from ipython>=7.8.0->black[jupyter]>=22.3.0->evalml) (0.2.0)\n",
      "Requirement already satisfied: backcall in c:\\users\\saksham rajvanshi\\anaconda3\\lib\\site-packages (from ipython>=7.8.0->black[jupyter]>=22.3.0->evalml) (0.2.0)\n",
      "Requirement already satisfied: jedi>=0.16 in c:\\users\\saksham rajvanshi\\anaconda3\\lib\\site-packages (from ipython>=7.8.0->black[jupyter]>=22.3.0->evalml) (0.18.1)\n",
      "Requirement already satisfied: pygments>=2.4.0 in c:\\users\\saksham rajvanshi\\anaconda3\\lib\\site-packages (from ipython>=7.8.0->black[jupyter]>=22.3.0->evalml) (2.11.2)\n",
      "Requirement already satisfied: traitlets>=5 in c:\\users\\saksham rajvanshi\\anaconda3\\lib\\site-packages (from ipython>=7.8.0->black[jupyter]>=22.3.0->evalml) (5.1.1)\n",
      "Requirement already satisfied: setuptools>=18.5 in c:\\users\\saksham rajvanshi\\anaconda3\\lib\\site-packages (from ipython>=7.8.0->black[jupyter]>=22.3.0->evalml) (61.2.0)\n",
      "Requirement already satisfied: matplotlib-inline in c:\\users\\saksham rajvanshi\\anaconda3\\lib\\site-packages (from ipython>=7.8.0->black[jupyter]>=22.3.0->evalml) (0.1.2)\n",
      "Requirement already satisfied: pickleshare in c:\\users\\saksham rajvanshi\\anaconda3\\lib\\site-packages (from ipython>=7.8.0->black[jupyter]>=22.3.0->evalml) (0.7.5)\n",
      "Requirement already satisfied: nbformat>=4.2.0 in c:\\users\\saksham rajvanshi\\anaconda3\\lib\\site-packages (from ipywidgets<8.0.5,>=7.5->evalml) (5.3.0)\n",
      "Requirement already satisfied: jupyterlab-widgets>=1.0.0 in c:\\users\\saksham rajvanshi\\anaconda3\\lib\\site-packages (from ipywidgets<8.0.5,>=7.5->evalml) (1.0.0)\n",
      "Requirement already satisfied: widgetsnbextension~=3.5.0 in c:\\users\\saksham rajvanshi\\anaconda3\\lib\\site-packages (from ipywidgets<8.0.5,>=7.5->evalml) (3.5.2)\n",
      "Requirement already satisfied: ipykernel>=4.5.1 in c:\\users\\saksham rajvanshi\\anaconda3\\lib\\site-packages (from ipywidgets<8.0.5,>=7.5->evalml) (6.9.1)\n",
      "Requirement already satisfied: ipython-genutils~=0.2.0 in c:\\users\\saksham rajvanshi\\anaconda3\\lib\\site-packages (from ipywidgets<8.0.5,>=7.5->evalml) (0.2.0)\n",
      "Requirement already satisfied: nest-asyncio in c:\\users\\saksham rajvanshi\\anaconda3\\lib\\site-packages (from ipykernel>=4.5.1->ipywidgets<8.0.5,>=7.5->evalml) (1.5.5)\n",
      "Requirement already satisfied: debugpy<2.0,>=1.0.0 in c:\\users\\saksham rajvanshi\\anaconda3\\lib\\site-packages (from ipykernel>=4.5.1->ipywidgets<8.0.5,>=7.5->evalml) (1.5.1)\n",
      "Requirement already satisfied: jupyter-client<8.0 in c:\\users\\saksham rajvanshi\\anaconda3\\lib\\site-packages (from ipykernel>=4.5.1->ipywidgets<8.0.5,>=7.5->evalml) (6.1.12)\n",
      "Requirement already satisfied: parso<0.9.0,>=0.8.0 in c:\\users\\saksham rajvanshi\\anaconda3\\lib\\site-packages (from jedi>=0.16->ipython>=7.8.0->black[jupyter]>=22.3.0->evalml) (0.8.3)\n",
      "Requirement already satisfied: MarkupSafe>=0.23 in c:\\users\\saksham rajvanshi\\anaconda3\\lib\\site-packages (from jinja2>=2.10.3->distributed>=2022.11.1->featuretools>=1.16.0->evalml) (2.0.1)\n",
      "Requirement already satisfied: jupyter-core>=4.6.0 in c:\\users\\saksham rajvanshi\\anaconda3\\lib\\site-packages (from jupyter-client<8.0->ipykernel>=4.5.1->ipywidgets<8.0.5,>=7.5->evalml) (4.9.2)\n",
      "Requirement already satisfied: pywin32>=1.0 in c:\\users\\saksham rajvanshi\\anaconda3\\lib\\site-packages (from jupyter-core>=4.6.0->jupyter-client<8.0->ipykernel>=4.5.1->ipywidgets<8.0.5,>=7.5->evalml) (302)\n",
      "Requirement already satisfied: wheel in c:\\users\\saksham rajvanshi\\anaconda3\\lib\\site-packages (from lightgbm>=2.3.1->evalml) (0.37.1)\n",
      "Requirement already satisfied: scikit-image>=0.12 in c:\\users\\saksham rajvanshi\\anaconda3\\lib\\site-packages (from lime>=0.2.0.1->evalml) (0.19.2)\n",
      "Requirement already satisfied: pillow>=6.2.0 in c:\\users\\saksham rajvanshi\\anaconda3\\lib\\site-packages (from matplotlib>=3.3.3->evalml) (9.0.1)\n",
      "Requirement already satisfied: fonttools>=4.22.0 in c:\\users\\saksham rajvanshi\\anaconda3\\lib\\site-packages (from matplotlib>=3.3.3->evalml) (4.25.0)\n",
      "Requirement already satisfied: kiwisolver>=1.0.1 in c:\\users\\saksham rajvanshi\\anaconda3\\lib\\site-packages (from matplotlib>=3.3.3->evalml) (1.3.2)\n",
      "Requirement already satisfied: pyparsing>=2.2.1 in c:\\users\\saksham rajvanshi\\anaconda3\\lib\\site-packages (from matplotlib>=3.3.3->evalml) (3.0.4)\n",
      "Requirement already satisfied: cycler>=0.10 in c:\\users\\saksham rajvanshi\\anaconda3\\lib\\site-packages (from matplotlib>=3.3.3->evalml) (0.11.0)\n",
      "Requirement already satisfied: jsonschema>=2.6 in c:\\users\\saksham rajvanshi\\anaconda3\\lib\\site-packages (from nbformat>=4.2.0->ipywidgets<8.0.5,>=7.5->evalml) (4.4.0)\n",
      "Requirement already satisfied: fastjsonschema in c:\\users\\saksham rajvanshi\\anaconda3\\lib\\site-packages (from nbformat>=4.2.0->ipywidgets<8.0.5,>=7.5->evalml) (2.15.1)\n",
      "Requirement already satisfied: attrs>=17.4.0 in c:\\users\\saksham rajvanshi\\anaconda3\\lib\\site-packages (from jsonschema>=2.6->nbformat>=4.2.0->ipywidgets<8.0.5,>=7.5->evalml) (21.4.0)\n",
      "Requirement already satisfied: pyrsistent!=0.17.0,!=0.17.1,!=0.17.2,>=0.14.0 in c:\\users\\saksham rajvanshi\\anaconda3\\lib\\site-packages (from jsonschema>=2.6->nbformat>=4.2.0->ipywidgets<8.0.5,>=7.5->evalml) (0.18.0)\n",
      "Requirement already satisfied: nltk>=3.4.5 in c:\\users\\saksham rajvanshi\\anaconda3\\lib\\site-packages (from nlp-primitives>=2.9.0->evalml) (3.7)\n",
      "Requirement already satisfied: regex>=2021.8.3 in c:\\users\\saksham rajvanshi\\anaconda3\\lib\\site-packages (from nltk>=3.4.5->nlp-primitives>=2.9.0->evalml) (2022.3.15)\n",
      "Requirement already satisfied: llvmlite<0.39,>=0.38.0rc1 in c:\\users\\saksham rajvanshi\\anaconda3\\lib\\site-packages (from numba>=0.53->sktime==0.17.0->evalml) (0.38.0)\n",
      "Requirement already satisfied: pytz>=2020.1 in c:\\users\\saksham rajvanshi\\anaconda3\\lib\\site-packages (from pandas>=1.5.0->evalml) (2021.3)\n",
      "Requirement already satisfied: tenacity>=6.2.0 in c:\\users\\saksham rajvanshi\\anaconda3\\lib\\site-packages (from plotly>=5.0.0->evalml) (8.0.1)\n",
      "Requirement already satisfied: Cython!=0.29.18,!=0.29.31,>=0.29 in c:\\users\\saksham rajvanshi\\anaconda3\\lib\\site-packages (from pmdarima>=1.8.5->evalml) (0.29.28)\n",
      "Requirement already satisfied: wcwidth in c:\\users\\saksham rajvanshi\\anaconda3\\lib\\site-packages (from prompt-toolkit!=3.0.0,!=3.0.1,<3.1.0,>=2.0.0->ipython>=7.8.0->black[jupyter]>=22.3.0->evalml) (0.2.5)\n",
      "Requirement already satisfied: tifffile>=2019.7.26 in c:\\users\\saksham rajvanshi\\anaconda3\\lib\\site-packages (from scikit-image>=0.12->lime>=0.2.0.1->evalml) (2021.7.2)\n",
      "Requirement already satisfied: PyWavelets>=1.1.1 in c:\\users\\saksham rajvanshi\\anaconda3\\lib\\site-packages (from scikit-image>=0.12->lime>=0.2.0.1->evalml) (1.3.0)\n",
      "Requirement already satisfied: imageio>=2.4.1 in c:\\users\\saksham rajvanshi\\anaconda3\\lib\\site-packages (from scikit-image>=0.12->lime>=0.2.0.1->evalml) (2.9.0)\n",
      "Requirement already satisfied: pyaml>=16.9 in c:\\users\\saksham rajvanshi\\anaconda3\\lib\\site-packages (from scikit-optimize>=0.9.0->evalml) (21.10.1)\n",
      "Requirement already satisfied: slicer==0.0.7 in c:\\users\\saksham rajvanshi\\anaconda3\\lib\\site-packages (from shap>=0.40.0->evalml) (0.0.7)\n",
      "Requirement already satisfied: notebook>=4.4.1 in c:\\users\\saksham rajvanshi\\anaconda3\\lib\\site-packages (from widgetsnbextension~=3.5.0->ipywidgets<8.0.5,>=7.5->evalml) (6.4.8)\n",
      "Requirement already satisfied: argon2-cffi in c:\\users\\saksham rajvanshi\\anaconda3\\lib\\site-packages (from notebook>=4.4.1->widgetsnbextension~=3.5.0->ipywidgets<8.0.5,>=7.5->evalml) (21.3.0)\n",
      "Requirement already satisfied: nbconvert in c:\\users\\saksham rajvanshi\\anaconda3\\lib\\site-packages (from notebook>=4.4.1->widgetsnbextension~=3.5.0->ipywidgets<8.0.5,>=7.5->evalml) (6.4.4)\n",
      "Requirement already satisfied: terminado>=0.8.3 in c:\\users\\saksham rajvanshi\\anaconda3\\lib\\site-packages (from notebook>=4.4.1->widgetsnbextension~=3.5.0->ipywidgets<8.0.5,>=7.5->evalml) (0.13.1)\n",
      "Requirement already satisfied: Send2Trash>=1.8.0 in c:\\users\\saksham rajvanshi\\anaconda3\\lib\\site-packages (from notebook>=4.4.1->widgetsnbextension~=3.5.0->ipywidgets<8.0.5,>=7.5->evalml) (1.8.0)\n",
      "Requirement already satisfied: prometheus-client in c:\\users\\saksham rajvanshi\\anaconda3\\lib\\site-packages (from notebook>=4.4.1->widgetsnbextension~=3.5.0->ipywidgets<8.0.5,>=7.5->evalml) (0.13.1)\n",
      "Requirement already satisfied: pywinpty>=1.1.0 in c:\\users\\saksham rajvanshi\\anaconda3\\lib\\site-packages (from terminado>=0.8.3->notebook>=4.4.1->widgetsnbextension~=3.5.0->ipywidgets<8.0.5,>=7.5->evalml) (2.0.2)\n",
      "Requirement already satisfied: importlib-resources>=5.10.0 in c:\\users\\saksham rajvanshi\\anaconda3\\lib\\site-packages (from woodwork>=0.22.0->evalml) (5.12.0)\n",
      "Requirement already satisfied: argon2-cffi-bindings in c:\\users\\saksham rajvanshi\\anaconda3\\lib\\site-packages (from argon2-cffi->notebook>=4.4.1->widgetsnbextension~=3.5.0->ipywidgets<8.0.5,>=7.5->evalml) (21.2.0)\n",
      "Requirement already satisfied: cffi>=1.0.1 in c:\\users\\saksham rajvanshi\\anaconda3\\lib\\site-packages (from argon2-cffi-bindings->argon2-cffi->notebook>=4.4.1->widgetsnbextension~=3.5.0->ipywidgets<8.0.5,>=7.5->evalml) (1.15.0)\n",
      "Requirement already satisfied: pycparser in c:\\users\\saksham rajvanshi\\anaconda3\\lib\\site-packages (from cffi>=1.0.1->argon2-cffi-bindings->argon2-cffi->notebook>=4.4.1->widgetsnbextension~=3.5.0->ipywidgets<8.0.5,>=7.5->evalml) (2.21)\n",
      "Requirement already satisfied: beautifulsoup4 in c:\\users\\saksham rajvanshi\\anaconda3\\lib\\site-packages (from nbconvert->notebook>=4.4.1->widgetsnbextension~=3.5.0->ipywidgets<8.0.5,>=7.5->evalml) (4.11.1)\n",
      "Requirement already satisfied: nbclient<0.6.0,>=0.5.0 in c:\\users\\saksham rajvanshi\\anaconda3\\lib\\site-packages (from nbconvert->notebook>=4.4.1->widgetsnbextension~=3.5.0->ipywidgets<8.0.5,>=7.5->evalml) (0.5.13)\n",
      "Requirement already satisfied: testpath in c:\\users\\saksham rajvanshi\\anaconda3\\lib\\site-packages (from nbconvert->notebook>=4.4.1->widgetsnbextension~=3.5.0->ipywidgets<8.0.5,>=7.5->evalml) (0.5.0)\n",
      "Requirement already satisfied: jupyterlab-pygments in c:\\users\\saksham rajvanshi\\anaconda3\\lib\\site-packages (from nbconvert->notebook>=4.4.1->widgetsnbextension~=3.5.0->ipywidgets<8.0.5,>=7.5->evalml) (0.1.2)\n",
      "Requirement already satisfied: mistune<2,>=0.8.1 in c:\\users\\saksham rajvanshi\\anaconda3\\lib\\site-packages (from nbconvert->notebook>=4.4.1->widgetsnbextension~=3.5.0->ipywidgets<8.0.5,>=7.5->evalml) (0.8.4)\n",
      "Requirement already satisfied: defusedxml in c:\\users\\saksham rajvanshi\\anaconda3\\lib\\site-packages (from nbconvert->notebook>=4.4.1->widgetsnbextension~=3.5.0->ipywidgets<8.0.5,>=7.5->evalml) (0.7.1)\n",
      "Requirement already satisfied: bleach in c:\\users\\saksham rajvanshi\\anaconda3\\lib\\site-packages (from nbconvert->notebook>=4.4.1->widgetsnbextension~=3.5.0->ipywidgets<8.0.5,>=7.5->evalml) (4.1.0)\n",
      "Requirement already satisfied: entrypoints>=0.2.2 in c:\\users\\saksham rajvanshi\\anaconda3\\lib\\site-packages (from nbconvert->notebook>=4.4.1->widgetsnbextension~=3.5.0->ipywidgets<8.0.5,>=7.5->evalml) (0.4)\n",
      "Requirement already satisfied: pandocfilters>=1.4.1 in c:\\users\\saksham rajvanshi\\anaconda3\\lib\\site-packages (from nbconvert->notebook>=4.4.1->widgetsnbextension~=3.5.0->ipywidgets<8.0.5,>=7.5->evalml) (1.5.0)\n",
      "Requirement already satisfied: soupsieve>1.2 in c:\\users\\saksham rajvanshi\\anaconda3\\lib\\site-packages (from beautifulsoup4->nbconvert->notebook>=4.4.1->widgetsnbextension~=3.5.0->ipywidgets<8.0.5,>=7.5->evalml) (2.3.1)\n",
      "Requirement already satisfied: webencodings in c:\\users\\saksham rajvanshi\\anaconda3\\lib\\site-packages (from bleach->nbconvert->notebook>=4.4.1->widgetsnbextension~=3.5.0->ipywidgets<8.0.5,>=7.5->evalml) (0.5.1)\n",
      "Requirement already satisfied: pure-eval in c:\\users\\saksham rajvanshi\\anaconda3\\lib\\site-packages (from stack-data->ipython>=7.8.0->black[jupyter]>=22.3.0->evalml) (0.2.2)\n",
      "Requirement already satisfied: executing in c:\\users\\saksham rajvanshi\\anaconda3\\lib\\site-packages (from stack-data->ipython>=7.8.0->black[jupyter]>=22.3.0->evalml) (0.8.3)\n",
      "Requirement already satisfied: asttokens in c:\\users\\saksham rajvanshi\\anaconda3\\lib\\site-packages (from stack-data->ipython>=7.8.0->black[jupyter]>=22.3.0->evalml) (2.0.5)\n",
      "Requirement already satisfied: pandas-profiling in c:\\users\\saksham rajvanshi\\anaconda3\\lib\\site-packages (3.6.6)\n",
      "Requirement already satisfied: ydata-profiling in c:\\users\\saksham rajvanshi\\anaconda3\\lib\\site-packages (from pandas-profiling) (4.1.2)\n",
      "Requirement already satisfied: seaborn<0.13,>=0.10.1 in c:\\users\\saksham rajvanshi\\anaconda3\\lib\\site-packages (from ydata-profiling->pandas-profiling) (0.11.2)\n",
      "Requirement already satisfied: tqdm<4.65,>=4.48.2 in c:\\users\\saksham rajvanshi\\anaconda3\\lib\\site-packages (from ydata-profiling->pandas-profiling) (4.64.0)\n",
      "Requirement already satisfied: scipy<1.10,>=1.4.1 in c:\\users\\saksham rajvanshi\\anaconda3\\lib\\site-packages (from ydata-profiling->pandas-profiling) (1.7.3)\n",
      "Requirement already satisfied: typeguard<2.14,>=2.13.2 in c:\\users\\saksham rajvanshi\\anaconda3\\lib\\site-packages (from ydata-profiling->pandas-profiling) (2.13.3)\n",
      "Requirement already satisfied: PyYAML<6.1,>=5.0.0 in c:\\users\\saksham rajvanshi\\anaconda3\\lib\\site-packages (from ydata-profiling->pandas-profiling) (6.0)\n",
      "Requirement already satisfied: pandas!=1.4.0,<1.6,>1.1 in c:\\users\\saksham rajvanshi\\anaconda3\\lib\\site-packages (from ydata-profiling->pandas-profiling) (1.5.3)\n",
      "Requirement already satisfied: imagehash==4.3.1 in c:\\users\\saksham rajvanshi\\anaconda3\\lib\\site-packages (from ydata-profiling->pandas-profiling) (4.3.1)\n",
      "Requirement already satisfied: multimethod<1.10,>=1.4 in c:\\users\\saksham rajvanshi\\anaconda3\\lib\\site-packages (from ydata-profiling->pandas-profiling) (1.9.1)\n",
      "Requirement already satisfied: pydantic<1.11,>=1.8.1 in c:\\users\\saksham rajvanshi\\anaconda3\\lib\\site-packages (from ydata-profiling->pandas-profiling) (1.10.7)\n",
      "Requirement already satisfied: statsmodels<0.14,>=0.13.2 in c:\\users\\saksham rajvanshi\\anaconda3\\lib\\site-packages (from ydata-profiling->pandas-profiling) (0.13.2)\n",
      "Requirement already satisfied: phik<0.13,>=0.11.1 in c:\\users\\saksham rajvanshi\\anaconda3\\lib\\site-packages (from ydata-profiling->pandas-profiling) (0.12.3)\n",
      "Requirement already satisfied: numpy<1.24,>=1.16.0 in c:\\users\\saksham rajvanshi\\anaconda3\\lib\\site-packages (from ydata-profiling->pandas-profiling) (1.21.5)\n",
      "Requirement already satisfied: matplotlib<3.7,>=3.2 in c:\\users\\saksham rajvanshi\\anaconda3\\lib\\site-packages (from ydata-profiling->pandas-profiling) (3.5.1)\n",
      "Requirement already satisfied: requests<2.29,>=2.24.0 in c:\\users\\saksham rajvanshi\\anaconda3\\lib\\site-packages (from ydata-profiling->pandas-profiling) (2.27.1)\n",
      "Requirement already satisfied: htmlmin==0.1.12 in c:\\users\\saksham rajvanshi\\anaconda3\\lib\\site-packages (from ydata-profiling->pandas-profiling) (0.1.12)\n",
      "Requirement already satisfied: jinja2<3.2,>=2.11.1 in c:\\users\\saksham rajvanshi\\anaconda3\\lib\\site-packages (from ydata-profiling->pandas-profiling) (2.11.3)\n",
      "Requirement already satisfied: visions[type_image_path]==0.7.5 in c:\\users\\saksham rajvanshi\\anaconda3\\lib\\site-packages (from ydata-profiling->pandas-profiling) (0.7.5)\n",
      "Requirement already satisfied: pillow in c:\\users\\saksham rajvanshi\\anaconda3\\lib\\site-packages (from imagehash==4.3.1->ydata-profiling->pandas-profiling) (9.0.1)\n",
      "Requirement already satisfied: PyWavelets in c:\\users\\saksham rajvanshi\\anaconda3\\lib\\site-packages (from imagehash==4.3.1->ydata-profiling->pandas-profiling) (1.3.0)\n",
      "Requirement already satisfied: networkx>=2.4 in c:\\users\\saksham rajvanshi\\anaconda3\\lib\\site-packages (from visions[type_image_path]==0.7.5->ydata-profiling->pandas-profiling) (2.7.1)\n",
      "Requirement already satisfied: tangled-up-in-unicode>=0.0.4 in c:\\users\\saksham rajvanshi\\anaconda3\\lib\\site-packages (from visions[type_image_path]==0.7.5->ydata-profiling->pandas-profiling) (0.2.0)\n",
      "Requirement already satisfied: attrs>=19.3.0 in c:\\users\\saksham rajvanshi\\anaconda3\\lib\\site-packages (from visions[type_image_path]==0.7.5->ydata-profiling->pandas-profiling) (21.4.0)\n",
      "Requirement already satisfied: MarkupSafe>=0.23 in c:\\users\\saksham rajvanshi\\anaconda3\\lib\\site-packages (from jinja2<3.2,>=2.11.1->ydata-profiling->pandas-profiling) (2.0.1)\n",
      "Requirement already satisfied: packaging>=20.0 in c:\\users\\saksham rajvanshi\\anaconda3\\lib\\site-packages (from matplotlib<3.7,>=3.2->ydata-profiling->pandas-profiling) (23.1)\n",
      "Requirement already satisfied: python-dateutil>=2.7 in c:\\users\\saksham rajvanshi\\anaconda3\\lib\\site-packages (from matplotlib<3.7,>=3.2->ydata-profiling->pandas-profiling) (2.8.2)\n",
      "Requirement already satisfied: pyparsing>=2.2.1 in c:\\users\\saksham rajvanshi\\anaconda3\\lib\\site-packages (from matplotlib<3.7,>=3.2->ydata-profiling->pandas-profiling) (3.0.4)\n",
      "Requirement already satisfied: kiwisolver>=1.0.1 in c:\\users\\saksham rajvanshi\\anaconda3\\lib\\site-packages (from matplotlib<3.7,>=3.2->ydata-profiling->pandas-profiling) (1.3.2)\n",
      "Requirement already satisfied: fonttools>=4.22.0 in c:\\users\\saksham rajvanshi\\anaconda3\\lib\\site-packages (from matplotlib<3.7,>=3.2->ydata-profiling->pandas-profiling) (4.25.0)\n",
      "Requirement already satisfied: cycler>=0.10 in c:\\users\\saksham rajvanshi\\anaconda3\\lib\\site-packages (from matplotlib<3.7,>=3.2->ydata-profiling->pandas-profiling) (0.11.0)\n",
      "Requirement already satisfied: pytz>=2020.1 in c:\\users\\saksham rajvanshi\\anaconda3\\lib\\site-packages (from pandas!=1.4.0,<1.6,>1.1->ydata-profiling->pandas-profiling) (2021.3)\n",
      "Requirement already satisfied: joblib>=0.14.1 in c:\\users\\saksham rajvanshi\\anaconda3\\lib\\site-packages (from phik<0.13,>=0.11.1->ydata-profiling->pandas-profiling) (1.2.0)\n",
      "Requirement already satisfied: typing-extensions>=4.2.0 in c:\\users\\saksham rajvanshi\\anaconda3\\lib\\site-packages (from pydantic<1.11,>=1.8.1->ydata-profiling->pandas-profiling) (4.5.0)\n",
      "Requirement already satisfied: six>=1.5 in c:\\users\\saksham rajvanshi\\anaconda3\\lib\\site-packages (from python-dateutil>=2.7->matplotlib<3.7,>=3.2->ydata-profiling->pandas-profiling) (1.16.0)\n",
      "Requirement already satisfied: charset-normalizer~=2.0.0 in c:\\users\\saksham rajvanshi\\anaconda3\\lib\\site-packages (from requests<2.29,>=2.24.0->ydata-profiling->pandas-profiling) (2.0.4)\n",
      "Requirement already satisfied: certifi>=2017.4.17 in c:\\users\\saksham rajvanshi\\anaconda3\\lib\\site-packages (from requests<2.29,>=2.24.0->ydata-profiling->pandas-profiling) (2021.10.8)\n",
      "Requirement already satisfied: idna<4,>=2.5 in c:\\users\\saksham rajvanshi\\anaconda3\\lib\\site-packages (from requests<2.29,>=2.24.0->ydata-profiling->pandas-profiling) (3.3)\n",
      "Requirement already satisfied: urllib3<1.27,>=1.21.1 in c:\\users\\saksham rajvanshi\\anaconda3\\lib\\site-packages (from requests<2.29,>=2.24.0->ydata-profiling->pandas-profiling) (1.26.9)\n",
      "Requirement already satisfied: patsy>=0.5.2 in c:\\users\\saksham rajvanshi\\anaconda3\\lib\\site-packages (from statsmodels<0.14,>=0.13.2->ydata-profiling->pandas-profiling) (0.5.2)\n",
      "Requirement already satisfied: colorama in c:\\users\\saksham rajvanshi\\anaconda3\\lib\\site-packages (from tqdm<4.65,>=4.48.2->ydata-profiling->pandas-profiling) (0.4.4)\n"
     ]
    }
   ],
   "source": [
    "!pip install evalml\n",
    "!pip install pandas-profiling"
   ]
  },
  {
   "cell_type": "markdown",
   "id": "ae9f38cc",
   "metadata": {},
   "source": [
    "# import the necessary libraries and load the dataset"
   ]
  },
  {
   "cell_type": "code",
   "execution_count": 3,
   "id": "836bc86d",
   "metadata": {},
   "outputs": [],
   "source": [
    "import pandas as pd\n",
    "import seaborn as sns\n",
    "from sklearn.model_selection import train_test_split\n",
    "from sklearn.linear_model import LinearRegression\n",
    "from sklearn.preprocessing import OneHotEncoder, StandardScaler\n",
    "from sklearn.metrics import mean_squared_error\n",
    "import numpy as np\n",
    "from pandas_profiling import ProfileReport\n",
    "import matplotlib.pyplot as plt\n",
    "from scipy.stats import mode\n",
    "from sklearn.preprocessing import LabelEncoder\n",
    "import warnings\n",
    "warnings.filterwarnings(\"ignore\")\n",
    "import evalml\n",
    "from evalml import AutoMLSearch\n",
    "import logging\n",
    "import os\n"
   ]
  },
  {
   "cell_type": "markdown",
   "id": "72002579",
   "metadata": {},
   "source": [
    "Load dataset(test,train)"
   ]
  },
  {
   "cell_type": "code",
   "execution_count": 7,
   "id": "92c94e06",
   "metadata": {},
   "outputs": [],
   "source": [
    "#Load the dataset\n",
    "train_df = pd.read_csv('train.csv')\n",
    "test_df = pd.read_csv('test.csv')"
   ]
  },
  {
   "cell_type": "code",
   "execution_count": 10,
   "id": "ca80c40e",
   "metadata": {},
   "outputs": [
    {
     "data": {
      "text/html": [
       "<div>\n",
       "<style scoped>\n",
       "    .dataframe tbody tr th:only-of-type {\n",
       "        vertical-align: middle;\n",
       "    }\n",
       "\n",
       "    .dataframe tbody tr th {\n",
       "        vertical-align: top;\n",
       "    }\n",
       "\n",
       "    .dataframe thead th {\n",
       "        text-align: right;\n",
       "    }\n",
       "</style>\n",
       "<table border=\"1\" class=\"dataframe\">\n",
       "  <thead>\n",
       "    <tr style=\"text-align: right;\">\n",
       "      <th></th>\n",
       "      <th>Item_Identifier</th>\n",
       "      <th>Item_Weight</th>\n",
       "      <th>Item_Fat_Content</th>\n",
       "      <th>Item_Visibility</th>\n",
       "      <th>Item_Type</th>\n",
       "      <th>Item_MRP</th>\n",
       "      <th>Outlet_Identifier</th>\n",
       "      <th>Outlet_Establishment_Year</th>\n",
       "      <th>Outlet_Size</th>\n",
       "      <th>Outlet_Location_Type</th>\n",
       "      <th>Outlet_Type</th>\n",
       "      <th>Item_Outlet_Sales</th>\n",
       "    </tr>\n",
       "  </thead>\n",
       "  <tbody>\n",
       "    <tr>\n",
       "      <th>0</th>\n",
       "      <td>FDA15</td>\n",
       "      <td>9.30</td>\n",
       "      <td>Low Fat</td>\n",
       "      <td>0.016047</td>\n",
       "      <td>Dairy</td>\n",
       "      <td>249.8092</td>\n",
       "      <td>OUT049</td>\n",
       "      <td>1999</td>\n",
       "      <td>Medium</td>\n",
       "      <td>Tier 1</td>\n",
       "      <td>Supermarket Type1</td>\n",
       "      <td>3735.1380</td>\n",
       "    </tr>\n",
       "    <tr>\n",
       "      <th>1</th>\n",
       "      <td>DRC01</td>\n",
       "      <td>5.92</td>\n",
       "      <td>Regular</td>\n",
       "      <td>0.019278</td>\n",
       "      <td>Soft Drinks</td>\n",
       "      <td>48.2692</td>\n",
       "      <td>OUT018</td>\n",
       "      <td>2009</td>\n",
       "      <td>Medium</td>\n",
       "      <td>Tier 3</td>\n",
       "      <td>Supermarket Type2</td>\n",
       "      <td>443.4228</td>\n",
       "    </tr>\n",
       "    <tr>\n",
       "      <th>2</th>\n",
       "      <td>FDN15</td>\n",
       "      <td>17.50</td>\n",
       "      <td>Low Fat</td>\n",
       "      <td>0.016760</td>\n",
       "      <td>Meat</td>\n",
       "      <td>141.6180</td>\n",
       "      <td>OUT049</td>\n",
       "      <td>1999</td>\n",
       "      <td>Medium</td>\n",
       "      <td>Tier 1</td>\n",
       "      <td>Supermarket Type1</td>\n",
       "      <td>2097.2700</td>\n",
       "    </tr>\n",
       "    <tr>\n",
       "      <th>3</th>\n",
       "      <td>FDX07</td>\n",
       "      <td>19.20</td>\n",
       "      <td>Regular</td>\n",
       "      <td>0.000000</td>\n",
       "      <td>Fruits and Vegetables</td>\n",
       "      <td>182.0950</td>\n",
       "      <td>OUT010</td>\n",
       "      <td>1998</td>\n",
       "      <td>NaN</td>\n",
       "      <td>Tier 3</td>\n",
       "      <td>Grocery Store</td>\n",
       "      <td>732.3800</td>\n",
       "    </tr>\n",
       "    <tr>\n",
       "      <th>4</th>\n",
       "      <td>NCD19</td>\n",
       "      <td>8.93</td>\n",
       "      <td>Low Fat</td>\n",
       "      <td>0.000000</td>\n",
       "      <td>Household</td>\n",
       "      <td>53.8614</td>\n",
       "      <td>OUT013</td>\n",
       "      <td>1987</td>\n",
       "      <td>High</td>\n",
       "      <td>Tier 3</td>\n",
       "      <td>Supermarket Type1</td>\n",
       "      <td>994.7052</td>\n",
       "    </tr>\n",
       "  </tbody>\n",
       "</table>\n",
       "</div>"
      ],
      "text/plain": [
       "  Item_Identifier  Item_Weight Item_Fat_Content  Item_Visibility  \\\n",
       "0           FDA15         9.30          Low Fat         0.016047   \n",
       "1           DRC01         5.92          Regular         0.019278   \n",
       "2           FDN15        17.50          Low Fat         0.016760   \n",
       "3           FDX07        19.20          Regular         0.000000   \n",
       "4           NCD19         8.93          Low Fat         0.000000   \n",
       "\n",
       "               Item_Type  Item_MRP Outlet_Identifier  \\\n",
       "0                  Dairy  249.8092            OUT049   \n",
       "1            Soft Drinks   48.2692            OUT018   \n",
       "2                   Meat  141.6180            OUT049   \n",
       "3  Fruits and Vegetables  182.0950            OUT010   \n",
       "4              Household   53.8614            OUT013   \n",
       "\n",
       "   Outlet_Establishment_Year Outlet_Size Outlet_Location_Type  \\\n",
       "0                       1999      Medium               Tier 1   \n",
       "1                       2009      Medium               Tier 3   \n",
       "2                       1999      Medium               Tier 1   \n",
       "3                       1998         NaN               Tier 3   \n",
       "4                       1987        High               Tier 3   \n",
       "\n",
       "         Outlet_Type  Item_Outlet_Sales  \n",
       "0  Supermarket Type1          3735.1380  \n",
       "1  Supermarket Type2           443.4228  \n",
       "2  Supermarket Type1          2097.2700  \n",
       "3      Grocery Store           732.3800  \n",
       "4  Supermarket Type1           994.7052  "
      ]
     },
     "execution_count": 10,
     "metadata": {},
     "output_type": "execute_result"
    }
   ],
   "source": [
    "train_df.head()"
   ]
  },
  {
   "cell_type": "code",
   "execution_count": 11,
   "id": "d6379ad4",
   "metadata": {},
   "outputs": [
    {
     "data": {
      "text/html": [
       "<div>\n",
       "<style scoped>\n",
       "    .dataframe tbody tr th:only-of-type {\n",
       "        vertical-align: middle;\n",
       "    }\n",
       "\n",
       "    .dataframe tbody tr th {\n",
       "        vertical-align: top;\n",
       "    }\n",
       "\n",
       "    .dataframe thead th {\n",
       "        text-align: right;\n",
       "    }\n",
       "</style>\n",
       "<table border=\"1\" class=\"dataframe\">\n",
       "  <thead>\n",
       "    <tr style=\"text-align: right;\">\n",
       "      <th></th>\n",
       "      <th>Item_Weight</th>\n",
       "      <th>Item_Visibility</th>\n",
       "      <th>Item_MRP</th>\n",
       "      <th>Outlet_Establishment_Year</th>\n",
       "      <th>Item_Outlet_Sales</th>\n",
       "    </tr>\n",
       "  </thead>\n",
       "  <tbody>\n",
       "    <tr>\n",
       "      <th>count</th>\n",
       "      <td>7060.000000</td>\n",
       "      <td>8523.000000</td>\n",
       "      <td>8523.000000</td>\n",
       "      <td>8523.000000</td>\n",
       "      <td>8523.000000</td>\n",
       "    </tr>\n",
       "    <tr>\n",
       "      <th>mean</th>\n",
       "      <td>12.857645</td>\n",
       "      <td>0.066132</td>\n",
       "      <td>140.992782</td>\n",
       "      <td>1997.831867</td>\n",
       "      <td>2181.288914</td>\n",
       "    </tr>\n",
       "    <tr>\n",
       "      <th>std</th>\n",
       "      <td>4.643456</td>\n",
       "      <td>0.051598</td>\n",
       "      <td>62.275067</td>\n",
       "      <td>8.371760</td>\n",
       "      <td>1706.499616</td>\n",
       "    </tr>\n",
       "    <tr>\n",
       "      <th>min</th>\n",
       "      <td>4.555000</td>\n",
       "      <td>0.000000</td>\n",
       "      <td>31.290000</td>\n",
       "      <td>1985.000000</td>\n",
       "      <td>33.290000</td>\n",
       "    </tr>\n",
       "    <tr>\n",
       "      <th>25%</th>\n",
       "      <td>8.773750</td>\n",
       "      <td>0.026989</td>\n",
       "      <td>93.826500</td>\n",
       "      <td>1987.000000</td>\n",
       "      <td>834.247400</td>\n",
       "    </tr>\n",
       "    <tr>\n",
       "      <th>50%</th>\n",
       "      <td>12.600000</td>\n",
       "      <td>0.053931</td>\n",
       "      <td>143.012800</td>\n",
       "      <td>1999.000000</td>\n",
       "      <td>1794.331000</td>\n",
       "    </tr>\n",
       "    <tr>\n",
       "      <th>75%</th>\n",
       "      <td>16.850000</td>\n",
       "      <td>0.094585</td>\n",
       "      <td>185.643700</td>\n",
       "      <td>2004.000000</td>\n",
       "      <td>3101.296400</td>\n",
       "    </tr>\n",
       "    <tr>\n",
       "      <th>max</th>\n",
       "      <td>21.350000</td>\n",
       "      <td>0.328391</td>\n",
       "      <td>266.888400</td>\n",
       "      <td>2009.000000</td>\n",
       "      <td>13086.964800</td>\n",
       "    </tr>\n",
       "  </tbody>\n",
       "</table>\n",
       "</div>"
      ],
      "text/plain": [
       "       Item_Weight  Item_Visibility     Item_MRP  Outlet_Establishment_Year  \\\n",
       "count  7060.000000      8523.000000  8523.000000                8523.000000   \n",
       "mean     12.857645         0.066132   140.992782                1997.831867   \n",
       "std       4.643456         0.051598    62.275067                   8.371760   \n",
       "min       4.555000         0.000000    31.290000                1985.000000   \n",
       "25%       8.773750         0.026989    93.826500                1987.000000   \n",
       "50%      12.600000         0.053931   143.012800                1999.000000   \n",
       "75%      16.850000         0.094585   185.643700                2004.000000   \n",
       "max      21.350000         0.328391   266.888400                2009.000000   \n",
       "\n",
       "       Item_Outlet_Sales  \n",
       "count        8523.000000  \n",
       "mean         2181.288914  \n",
       "std          1706.499616  \n",
       "min            33.290000  \n",
       "25%           834.247400  \n",
       "50%          1794.331000  \n",
       "75%          3101.296400  \n",
       "max         13086.964800  "
      ]
     },
     "execution_count": 11,
     "metadata": {},
     "output_type": "execute_result"
    }
   ],
   "source": [
    "train_df.describe()"
   ]
  },
  {
   "cell_type": "code",
   "execution_count": 13,
   "id": "c0daf98c",
   "metadata": {},
   "outputs": [
    {
     "name": "stdout",
     "output_type": "stream",
     "text": [
      "<class 'pandas.core.frame.DataFrame'>\n",
      "RangeIndex: 8523 entries, 0 to 8522\n",
      "Data columns (total 12 columns):\n",
      " #   Column                     Non-Null Count  Dtype  \n",
      "---  ------                     --------------  -----  \n",
      " 0   Item_Identifier            8523 non-null   object \n",
      " 1   Item_Weight                7060 non-null   float64\n",
      " 2   Item_Fat_Content           8523 non-null   object \n",
      " 3   Item_Visibility            8523 non-null   float64\n",
      " 4   Item_Type                  8523 non-null   object \n",
      " 5   Item_MRP                   8523 non-null   float64\n",
      " 6   Outlet_Identifier          8523 non-null   object \n",
      " 7   Outlet_Establishment_Year  8523 non-null   int64  \n",
      " 8   Outlet_Size                6113 non-null   object \n",
      " 9   Outlet_Location_Type       8523 non-null   object \n",
      " 10  Outlet_Type                8523 non-null   object \n",
      " 11  Item_Outlet_Sales          8523 non-null   float64\n",
      "dtypes: float64(4), int64(1), object(7)\n",
      "memory usage: 799.2+ KB\n"
     ]
    }
   ],
   "source": [
    "train_df.info()"
   ]
  },
  {
   "cell_type": "markdown",
   "id": "a6be3192",
   "metadata": {},
   "source": [
    "preprocess the data by filling missing values, encoding categorical variables, and scaling the numerical features"
   ]
  },
  {
   "cell_type": "code",
   "execution_count": 9,
   "id": "71054598",
   "metadata": {},
   "outputs": [],
   "source": [
    "\n",
    "# Load the dataset into a pandas DataFrame\n",
    "df = pd.read_csv('train.csv')\n",
    "\n",
    "# Fill missing values\n",
    "df['Item_Weight'].fillna(df['Item_Weight'].mean(), inplace=True)\n",
    "df['Outlet_Size'].fillna('Unknown', inplace=True)\n",
    "\n",
    "# Encode categorical variables\n",
    "df = pd.get_dummies(df, columns=['Item_Fat_Content', 'Outlet_Location_Type', 'Outlet_Type', 'Outlet_Size'])\n",
    "\n",
    "# Scale numerical features\n",
    "from sklearn.preprocessing import StandardScaler\n",
    "scaler = StandardScaler()\n",
    "df[['Item_Weight', 'Item_Visibility', 'Item_MRP']] = scaler.fit_transform(df[['Item_Weight', 'Item_Visibility', 'Item_MRP']])\n"
   ]
  },
  {
   "cell_type": "code",
   "execution_count": 14,
   "id": "896484dc",
   "metadata": {},
   "outputs": [],
   "source": [
    "#join train and test dataset\n",
    "#create source column having train and test values to perform train test split later\n",
    "train_data[\"source\"]=\"train\"\n",
    "test_data[\"source\"]=\"test\"\n",
    "\n",
    "data=pd.concat([train_data,test_data],ignore_index=True)"
   ]
  },
  {
   "cell_type": "code",
   "execution_count": 15,
   "id": "91f1a1d6",
   "metadata": {},
   "outputs": [
    {
     "name": "stdout",
     "output_type": "stream",
     "text": [
      "Train dataset shape- (8523, 13)\n",
      "Test dataset shape- (5681, 12)\n",
      "Combine dataset shape- (14204, 13)\n"
     ]
    }
   ],
   "source": [
    "print(\"Train dataset shape-\",train_data.shape)\n",
    "print(\"Test dataset shape-\",test_data.shape)\n",
    "print(\"Combine dataset shape-\",data.shape)"
   ]
  },
  {
   "cell_type": "code",
   "execution_count": 16,
   "id": "d17e0026",
   "metadata": {},
   "outputs": [
    {
     "data": {
      "text/html": [
       "<div>\n",
       "<style scoped>\n",
       "    .dataframe tbody tr th:only-of-type {\n",
       "        vertical-align: middle;\n",
       "    }\n",
       "\n",
       "    .dataframe tbody tr th {\n",
       "        vertical-align: top;\n",
       "    }\n",
       "\n",
       "    .dataframe thead th {\n",
       "        text-align: right;\n",
       "    }\n",
       "</style>\n",
       "<table border=\"1\" class=\"dataframe\">\n",
       "  <thead>\n",
       "    <tr style=\"text-align: right;\">\n",
       "      <th></th>\n",
       "      <th>Item_Identifier</th>\n",
       "      <th>Item_Weight</th>\n",
       "      <th>Item_Fat_Content</th>\n",
       "      <th>Item_Visibility</th>\n",
       "      <th>Item_Type</th>\n",
       "      <th>Item_MRP</th>\n",
       "      <th>Outlet_Identifier</th>\n",
       "      <th>Outlet_Establishment_Year</th>\n",
       "      <th>Outlet_Size</th>\n",
       "      <th>Outlet_Location_Type</th>\n",
       "      <th>Outlet_Type</th>\n",
       "      <th>Item_Outlet_Sales</th>\n",
       "      <th>source</th>\n",
       "    </tr>\n",
       "  </thead>\n",
       "  <tbody>\n",
       "    <tr>\n",
       "      <th>0</th>\n",
       "      <td>FDA15</td>\n",
       "      <td>9.30</td>\n",
       "      <td>Low Fat</td>\n",
       "      <td>0.016047</td>\n",
       "      <td>Dairy</td>\n",
       "      <td>249.8092</td>\n",
       "      <td>OUT049</td>\n",
       "      <td>1999</td>\n",
       "      <td>Medium</td>\n",
       "      <td>Tier 1</td>\n",
       "      <td>Supermarket Type1</td>\n",
       "      <td>3735.1380</td>\n",
       "      <td>train</td>\n",
       "    </tr>\n",
       "    <tr>\n",
       "      <th>1</th>\n",
       "      <td>DRC01</td>\n",
       "      <td>5.92</td>\n",
       "      <td>Regular</td>\n",
       "      <td>0.019278</td>\n",
       "      <td>Soft Drinks</td>\n",
       "      <td>48.2692</td>\n",
       "      <td>OUT018</td>\n",
       "      <td>2009</td>\n",
       "      <td>Medium</td>\n",
       "      <td>Tier 3</td>\n",
       "      <td>Supermarket Type2</td>\n",
       "      <td>443.4228</td>\n",
       "      <td>train</td>\n",
       "    </tr>\n",
       "    <tr>\n",
       "      <th>2</th>\n",
       "      <td>FDN15</td>\n",
       "      <td>17.50</td>\n",
       "      <td>Low Fat</td>\n",
       "      <td>0.016760</td>\n",
       "      <td>Meat</td>\n",
       "      <td>141.6180</td>\n",
       "      <td>OUT049</td>\n",
       "      <td>1999</td>\n",
       "      <td>Medium</td>\n",
       "      <td>Tier 1</td>\n",
       "      <td>Supermarket Type1</td>\n",
       "      <td>2097.2700</td>\n",
       "      <td>train</td>\n",
       "    </tr>\n",
       "    <tr>\n",
       "      <th>3</th>\n",
       "      <td>FDX07</td>\n",
       "      <td>19.20</td>\n",
       "      <td>Regular</td>\n",
       "      <td>0.000000</td>\n",
       "      <td>Fruits and Vegetables</td>\n",
       "      <td>182.0950</td>\n",
       "      <td>OUT010</td>\n",
       "      <td>1998</td>\n",
       "      <td>NaN</td>\n",
       "      <td>Tier 3</td>\n",
       "      <td>Grocery Store</td>\n",
       "      <td>732.3800</td>\n",
       "      <td>train</td>\n",
       "    </tr>\n",
       "    <tr>\n",
       "      <th>4</th>\n",
       "      <td>NCD19</td>\n",
       "      <td>8.93</td>\n",
       "      <td>Low Fat</td>\n",
       "      <td>0.000000</td>\n",
       "      <td>Household</td>\n",
       "      <td>53.8614</td>\n",
       "      <td>OUT013</td>\n",
       "      <td>1987</td>\n",
       "      <td>High</td>\n",
       "      <td>Tier 3</td>\n",
       "      <td>Supermarket Type1</td>\n",
       "      <td>994.7052</td>\n",
       "      <td>train</td>\n",
       "    </tr>\n",
       "  </tbody>\n",
       "</table>\n",
       "</div>"
      ],
      "text/plain": [
       "  Item_Identifier  Item_Weight Item_Fat_Content  Item_Visibility  \\\n",
       "0           FDA15         9.30          Low Fat         0.016047   \n",
       "1           DRC01         5.92          Regular         0.019278   \n",
       "2           FDN15        17.50          Low Fat         0.016760   \n",
       "3           FDX07        19.20          Regular         0.000000   \n",
       "4           NCD19         8.93          Low Fat         0.000000   \n",
       "\n",
       "               Item_Type  Item_MRP Outlet_Identifier  \\\n",
       "0                  Dairy  249.8092            OUT049   \n",
       "1            Soft Drinks   48.2692            OUT018   \n",
       "2                   Meat  141.6180            OUT049   \n",
       "3  Fruits and Vegetables  182.0950            OUT010   \n",
       "4              Household   53.8614            OUT013   \n",
       "\n",
       "   Outlet_Establishment_Year Outlet_Size Outlet_Location_Type  \\\n",
       "0                       1999      Medium               Tier 1   \n",
       "1                       2009      Medium               Tier 3   \n",
       "2                       1999      Medium               Tier 1   \n",
       "3                       1998         NaN               Tier 3   \n",
       "4                       1987        High               Tier 3   \n",
       "\n",
       "         Outlet_Type  Item_Outlet_Sales source  \n",
       "0  Supermarket Type1          3735.1380  train  \n",
       "1  Supermarket Type2           443.4228  train  \n",
       "2  Supermarket Type1          2097.2700  train  \n",
       "3      Grocery Store           732.3800  train  \n",
       "4  Supermarket Type1           994.7052  train  "
      ]
     },
     "execution_count": 16,
     "metadata": {},
     "output_type": "execute_result"
    }
   ],
   "source": [
    "data.head()"
   ]
  },
  {
   "cell_type": "code",
   "execution_count": 17,
   "id": "0b7ddd8f",
   "metadata": {},
   "outputs": [
    {
     "data": {
      "text/html": [
       "<div>\n",
       "<style scoped>\n",
       "    .dataframe tbody tr th:only-of-type {\n",
       "        vertical-align: middle;\n",
       "    }\n",
       "\n",
       "    .dataframe tbody tr th {\n",
       "        vertical-align: top;\n",
       "    }\n",
       "\n",
       "    .dataframe thead th {\n",
       "        text-align: right;\n",
       "    }\n",
       "</style>\n",
       "<table border=\"1\" class=\"dataframe\">\n",
       "  <thead>\n",
       "    <tr style=\"text-align: right;\">\n",
       "      <th></th>\n",
       "      <th>Item_Identifier</th>\n",
       "      <th>Item_Weight</th>\n",
       "      <th>Item_Fat_Content</th>\n",
       "      <th>Item_Visibility</th>\n",
       "      <th>Item_Type</th>\n",
       "      <th>Item_MRP</th>\n",
       "      <th>Outlet_Identifier</th>\n",
       "      <th>Outlet_Establishment_Year</th>\n",
       "      <th>Outlet_Size</th>\n",
       "      <th>Outlet_Location_Type</th>\n",
       "      <th>Outlet_Type</th>\n",
       "      <th>Item_Outlet_Sales</th>\n",
       "      <th>source</th>\n",
       "    </tr>\n",
       "  </thead>\n",
       "  <tbody>\n",
       "    <tr>\n",
       "      <th>14199</th>\n",
       "      <td>FDB58</td>\n",
       "      <td>10.5</td>\n",
       "      <td>Regular</td>\n",
       "      <td>0.013496</td>\n",
       "      <td>Snack Foods</td>\n",
       "      <td>141.3154</td>\n",
       "      <td>OUT046</td>\n",
       "      <td>1997</td>\n",
       "      <td>Small</td>\n",
       "      <td>Tier 1</td>\n",
       "      <td>Supermarket Type1</td>\n",
       "      <td>NaN</td>\n",
       "      <td>test</td>\n",
       "    </tr>\n",
       "    <tr>\n",
       "      <th>14200</th>\n",
       "      <td>FDD47</td>\n",
       "      <td>7.6</td>\n",
       "      <td>Regular</td>\n",
       "      <td>0.142991</td>\n",
       "      <td>Starchy Foods</td>\n",
       "      <td>169.1448</td>\n",
       "      <td>OUT018</td>\n",
       "      <td>2009</td>\n",
       "      <td>Medium</td>\n",
       "      <td>Tier 3</td>\n",
       "      <td>Supermarket Type2</td>\n",
       "      <td>NaN</td>\n",
       "      <td>test</td>\n",
       "    </tr>\n",
       "    <tr>\n",
       "      <th>14201</th>\n",
       "      <td>NCO17</td>\n",
       "      <td>10.0</td>\n",
       "      <td>Low Fat</td>\n",
       "      <td>0.073529</td>\n",
       "      <td>Health and Hygiene</td>\n",
       "      <td>118.7440</td>\n",
       "      <td>OUT045</td>\n",
       "      <td>2002</td>\n",
       "      <td>NaN</td>\n",
       "      <td>Tier 2</td>\n",
       "      <td>Supermarket Type1</td>\n",
       "      <td>NaN</td>\n",
       "      <td>test</td>\n",
       "    </tr>\n",
       "    <tr>\n",
       "      <th>14202</th>\n",
       "      <td>FDJ26</td>\n",
       "      <td>15.3</td>\n",
       "      <td>Regular</td>\n",
       "      <td>0.000000</td>\n",
       "      <td>Canned</td>\n",
       "      <td>214.6218</td>\n",
       "      <td>OUT017</td>\n",
       "      <td>2007</td>\n",
       "      <td>NaN</td>\n",
       "      <td>Tier 2</td>\n",
       "      <td>Supermarket Type1</td>\n",
       "      <td>NaN</td>\n",
       "      <td>test</td>\n",
       "    </tr>\n",
       "    <tr>\n",
       "      <th>14203</th>\n",
       "      <td>FDU37</td>\n",
       "      <td>9.5</td>\n",
       "      <td>Regular</td>\n",
       "      <td>0.104720</td>\n",
       "      <td>Canned</td>\n",
       "      <td>79.7960</td>\n",
       "      <td>OUT045</td>\n",
       "      <td>2002</td>\n",
       "      <td>NaN</td>\n",
       "      <td>Tier 2</td>\n",
       "      <td>Supermarket Type1</td>\n",
       "      <td>NaN</td>\n",
       "      <td>test</td>\n",
       "    </tr>\n",
       "  </tbody>\n",
       "</table>\n",
       "</div>"
      ],
      "text/plain": [
       "      Item_Identifier  Item_Weight Item_Fat_Content  Item_Visibility  \\\n",
       "14199           FDB58         10.5          Regular         0.013496   \n",
       "14200           FDD47          7.6          Regular         0.142991   \n",
       "14201           NCO17         10.0          Low Fat         0.073529   \n",
       "14202           FDJ26         15.3          Regular         0.000000   \n",
       "14203           FDU37          9.5          Regular         0.104720   \n",
       "\n",
       "                Item_Type  Item_MRP Outlet_Identifier  \\\n",
       "14199         Snack Foods  141.3154            OUT046   \n",
       "14200       Starchy Foods  169.1448            OUT018   \n",
       "14201  Health and Hygiene  118.7440            OUT045   \n",
       "14202              Canned  214.6218            OUT017   \n",
       "14203              Canned   79.7960            OUT045   \n",
       "\n",
       "       Outlet_Establishment_Year Outlet_Size Outlet_Location_Type  \\\n",
       "14199                       1997       Small               Tier 1   \n",
       "14200                       2009      Medium               Tier 3   \n",
       "14201                       2002         NaN               Tier 2   \n",
       "14202                       2007         NaN               Tier 2   \n",
       "14203                       2002         NaN               Tier 2   \n",
       "\n",
       "             Outlet_Type  Item_Outlet_Sales source  \n",
       "14199  Supermarket Type1                NaN   test  \n",
       "14200  Supermarket Type2                NaN   test  \n",
       "14201  Supermarket Type1                NaN   test  \n",
       "14202  Supermarket Type1                NaN   test  \n",
       "14203  Supermarket Type1                NaN   test  "
      ]
     },
     "execution_count": 17,
     "metadata": {},
     "output_type": "execute_result"
    }
   ],
   "source": [
    "data.tail()"
   ]
  },
  {
   "cell_type": "code",
   "execution_count": 18,
   "id": "fe5a4268",
   "metadata": {},
   "outputs": [
    {
     "data": {
      "text/plain": [
       "Item_Identifier                 0\n",
       "Item_Weight                  2439\n",
       "Item_Fat_Content                0\n",
       "Item_Visibility                 0\n",
       "Item_Type                       0\n",
       "Item_MRP                        0\n",
       "Outlet_Identifier               0\n",
       "Outlet_Establishment_Year       0\n",
       "Outlet_Size                  4016\n",
       "Outlet_Location_Type            0\n",
       "Outlet_Type                     0\n",
       "Item_Outlet_Sales            5681\n",
       "source                          0\n",
       "dtype: int64"
      ]
     },
     "execution_count": 18,
     "metadata": {},
     "output_type": "execute_result"
    }
   ],
   "source": [
    "#Number of Null values in Dataset\n",
    "data.isnull().sum()"
   ]
  },
  {
   "cell_type": "code",
   "execution_count": 19,
   "id": "265d5764",
   "metadata": {},
   "outputs": [
    {
     "data": {
      "text/plain": [
       "Item_Identifier               0.000000\n",
       "Item_Weight                  17.171219\n",
       "Item_Fat_Content              0.000000\n",
       "Item_Visibility               0.000000\n",
       "Item_Type                     0.000000\n",
       "Item_MRP                      0.000000\n",
       "Outlet_Identifier             0.000000\n",
       "Outlet_Establishment_Year     0.000000\n",
       "Outlet_Size                  28.273726\n",
       "Outlet_Location_Type          0.000000\n",
       "Outlet_Type                   0.000000\n",
       "Item_Outlet_Sales            39.995776\n",
       "source                        0.000000\n",
       "dtype: float64"
      ]
     },
     "execution_count": 19,
     "metadata": {},
     "output_type": "execute_result"
    }
   ],
   "source": [
    "#Percentage of null values in dataset\n",
    "data.isnull().sum()/data.shape[0]*100"
   ]
  },
  {
   "cell_type": "markdown",
   "id": "30acf2ee",
   "metadata": {},
   "source": [
    "Model building preparation"
   ]
  },
  {
   "cell_type": "markdown",
   "id": "5867092d",
   "metadata": {},
   "source": [
    "Split the Dataset and Perform Scaling on the X_train and X_test"
   ]
  },
  {
   "cell_type": "code",
   "execution_count": 75,
   "id": "02cbe643",
   "metadata": {},
   "outputs": [],
   "source": [
    "import pandas as pd\n",
    "from sklearn.model_selection import train_test_split\n",
    "from sklearn.linear_model import LinearRegression\n",
    "from sklearn.preprocessing import OneHotEncoder, StandardScaler\n",
    "from sklearn.metrics import mean_squared_error\n",
    "import numpy as np\n",
    "\n",
    "# Load the dataset into a pandas DataFrame\n",
    "train_df = pd.read_csv('train.csv')\n",
    "test_df = pd.read_csv('test.csv')\n",
    "\n",
    "# Combine the train and test datasets\n",
    "combined_df = pd.concat([train_df, test_df], axis=0, ignore_index=True)\n",
    "\n",
    "# Fill missing values\n",
    "combined_df['Item_Weight'].fillna(combined_df['Item_Weight'].mean(), inplace=True)\n",
    "combined_df['Outlet_Size'].fillna('Unknown', inplace=True)\n",
    "\n",
    "# Encode categorical variables\n",
    "combined_df = pd.get_dummies(combined_df, columns=['Item_Fat_Content', 'Outlet_Location_Type', 'Outlet_Type', 'Outlet_Size'])\n",
    "\n",
    "# Encode Item_Type using one-hot encoding\n",
    "encoder = OneHotEncoder(sparse=False)\n",
    "item_type_encoded = encoder.fit_transform(combined_df[['Item_Type']])\n",
    "item_type_df = pd.DataFrame(item_type_encoded, columns=encoder.get_feature_names_out(['Item_Type']))\n",
    "combined_df = pd.concat([combined_df, item_type_df], axis=1)\n",
    "combined_df.drop('Item_Type', axis=1, inplace=True)\n",
    "\n",
    "# Split the combined dataset into training and testing sets\n",
    "train_rows = train_df.shape[0]\n",
    "train_df = combined_df[:train_rows].reset_index(drop=True)\n",
    "test_df = combined_df[train_rows:].reset_index(drop=True)\n",
    "\n",
    "# Split the training dataset into features and target variable\n",
    "X_train = train_df.drop(['Item_Outlet_Sales', 'Item_Identifier', 'Outlet_Identifier'], axis=1)\n",
    "y_train = train_df['Item_Outlet_Sales']\n",
    "\n",
    "# Scale numerical features\n",
    "scaler = StandardScaler()\n",
    "X_train[['Item_Weight', 'Item_Visibility', 'Item_MRP']] = scaler.fit_transform(X_train[['Item_Weight', 'Item_Visibility', 'Item_MRP']])\n",
    "\n",
    "# Train a linear regression model\n",
    "model = LinearRegression()\n",
    "model.fit(X_train, y_train)\n",
    "\n",
    "# Split the testing dataset into features and target variable\n",
    "X_test = test_df.drop(['Item_Outlet_Sales', 'Item_Identifier', 'Outlet_Identifier'], axis=1)\n",
    "\n",
    "# Scale numerical features\n",
    "X_test[['Item_Weight', 'Item_Visibility', 'Item_MRP']] = scaler.transform(X_test[['Item_Weight', 'Item_Visibility', 'Item_MRP']])\n",
    "\n",
    "# Make predictions on the testing data\n",
    "y_pred = model.predict(X_test)\n",
    "\n",
    "# Fill the missing Item_Outlet_Sales values in the test dataset with the predicted values\n",
    "test_df['Item_Outlet_Sales'] = y_pred\n",
    "test_df[['Item_Identifier', 'Outlet_Identifier', 'Item_Outlet_Sales']].to_csv('submission.csv', index=False)\n",
    "\n"
   ]
  },
  {
   "cell_type": "code",
   "execution_count": 46,
   "id": "19f06059",
   "metadata": {},
   "outputs": [
    {
     "name": "stdout",
     "output_type": "stream",
     "text": [
      "Predictions: [2065.52833864 3979.23974756 1090.10299656 3090.5100452   577.04733984\n",
      "  789.39648504 2881.5680275  2823.07736647 2881.27696232 1028.13833271]\n"
     ]
    }
   ],
   "source": [
    "# Make predictions on new data\n",
    "new_data = train_df.sample(10) # Sample 10 random rows from the training data\n",
    "columns_to_encode = [col for col in ['Item_Fat_Content', 'Outlet_Location_Type', 'Outlet_Type', 'Outlet_Size'] if col in new_data.columns]\n",
    "new_data[['Item_Weight', 'Item_Visibility', 'Item_MRP']] = scaler.transform(new_data[['Item_Weight', 'Item_Visibility', 'Item_MRP']])\n",
    "new_data = pd.get_dummies(new_data, columns=columns_to_encode)\n",
    "predictions = model.predict(new_data.drop(['Item_Outlet_Sales', 'Item_Identifier', 'Outlet_Identifier'], axis=1))\n",
    "\n",
    "print('Predictions:', predictions)\n"
   ]
  },
  {
   "cell_type": "markdown",
   "id": "cbf2fb14",
   "metadata": {},
   "source": [
    "Some Graphical representations"
   ]
  },
  {
   "cell_type": "code",
   "execution_count": 47,
   "id": "13d26818",
   "metadata": {},
   "outputs": [
    {
     "data": {
      "text/plain": [
       "<AxesSubplot:xlabel='Item_Weight', ylabel='Count'>"
      ]
     },
     "execution_count": 47,
     "metadata": {},
     "output_type": "execute_result"
    },
    {
     "data": {
      "image/png": "[encoded data removed]",
      "text/plain": [
       "<Figure size 432x288 with 1 Axes>"
      ]
     },
     "metadata": {
      "needs_background": "light"
     },
     "output_type": "display_data"
    }
   ],
   "source": [
    "# Plot a histogram of Item_Weight\n",
    "sns.histplot(df['Item_Weight'], kde=False)"
   ]
  },
  {
   "cell_type": "code",
   "execution_count": 48,
   "id": "687b1635",
   "metadata": {},
   "outputs": [
    {
     "data": {
      "text/plain": [
       "<AxesSubplot:xlabel='Item_Visibility', ylabel='Count'>"
      ]
     },
     "execution_count": 48,
     "metadata": {},
     "output_type": "execute_result"
    },
    {
     "data": {
      "image/png": "[encoded data removed]",
      "text/plain": [
       "<Figure size 432x288 with 1 Axes>"
      ]
     },
     "metadata": {
      "needs_background": "light"
     },
     "output_type": "display_data"
    }
   ],
   "source": [
    "# Plot a histogram of Item_Visibility\n",
    "sns.histplot(df['Item_Visibility'], kde=False)"
   ]
  },
  {
   "cell_type": "code",
   "execution_count": 49,
   "id": "ade1e868",
   "metadata": {},
   "outputs": [
    {
     "data": {
      "text/plain": [
       "<AxesSubplot:xlabel='Item_MRP', ylabel='Count'>"
      ]
     },
     "execution_count": 49,
     "metadata": {},
     "output_type": "execute_result"
    },
    {
     "data": {
      "image/png": "[encoded data removed]",
      "text/plain": [
       "<Figure size 432x288 with 1 Axes>"
      ]
     },
     "metadata": {
      "needs_background": "light"
     },
     "output_type": "display_data"
    }
   ],
   "source": [
    "# Plot a histogram of Item_MRP\n",
    "sns.histplot(df['Item_MRP'], kde=False)"
   ]
  },
  {
   "cell_type": "code",
   "execution_count": 89,
   "id": "dc0f425f",
   "metadata": {},
   "outputs": [
    {
     "data": {
      "text/plain": [
       "<AxesSubplot:xlabel='Item_Outlet_Sales', ylabel='Count'>"
      ]
     },
     "execution_count": 89,
     "metadata": {},
     "output_type": "execute_result"
    },
    {
     "data": {
      "image/png": "[encoded data removed]",
      "text/plain": [
       "<Figure size 432x288 with 1 Axes>"
      ]
     },
     "metadata": {
      "needs_background": "light"
     },
     "output_type": "display_data"
    }
   ],
   "source": [
    "# Plot a histogram of Item_Outlet_Sales\n",
    "sns.histplot(df['Item_Outlet_Sales'], kde=False)"
   ]
  },
  {
   "cell_type": "code",
   "execution_count": 90,
   "id": "1061291c",
   "metadata": {},
   "outputs": [
    {
     "data": {
      "text/plain": [
       "<AxesSubplot:xlabel='Item_Identifier', ylabel='Count'>"
      ]
     },
     "execution_count": 90,
     "metadata": {},
     "output_type": "execute_result"
    },
    {
     "data": {
      "image/png": "[encoded data removed]",
      "text/plain": [
       "<Figure size 432x288 with 1 Axes>"
      ]
     },
     "metadata": {
      "needs_background": "light"
     },
     "output_type": "display_data"
    }
   ],
   "source": [
    "# Plot a histogram of Item_Identifier\n",
    "sns.histplot(df['Item_Identifier'], kde=False)"
   ]
  },
  {
   "cell_type": "code",
   "execution_count": 91,
   "id": "21882b5e",
   "metadata": {},
   "outputs": [
    {
     "data": {
      "text/plain": [
       "<AxesSubplot:xlabel='Outlet_Identifier', ylabel='Count'>"
      ]
     },
     "execution_count": 91,
     "metadata": {},
     "output_type": "execute_result"
    },
    {
     "data": {
      "image/png": "[encoded data removed]",
      "text/plain": [
       "<Figure size 432x288 with 1 Axes>"
      ]
     },
     "metadata": {
      "needs_background": "light"
     },
     "output_type": "display_data"
    }
   ],
   "source": [
    "# Plot a histogram of Outlet_Identifier\n",
    "sns.histplot(df['Outlet_Identifier'], kde=False)"
   ]
  },
  {
   "cell_type": "markdown",
   "id": "c6ba7736",
   "metadata": {},
   "source": [
    "Metrics for drawing comparisons"
   ]
  },
  {
   "cell_type": "code",
   "execution_count": 57,
   "id": "dd5071f5",
   "metadata": {},
   "outputs": [
    {
     "name": "stdout",
     "output_type": "stream",
     "text": [
      "RMSE scores: [1152.95104281 1122.84855182 1114.73019817 1129.93339861 1143.09145154]\n",
      "Average RMSE: 1132.7109285907468\n",
      "Standard deviation: 13.752856393122675\n"
     ]
    }
   ],
   "source": [
    "from sklearn.model_selection import cross_val_score\n",
    "# Train a linear regression model using cross-validation\n",
    "model = LinearRegression()\n",
    "scores = cross_val_score(model, X_train, y_train, cv=5, scoring='neg_mean_squared_error')\n",
    "rmse_scores = np.sqrt(-scores)\n",
    "\n",
    "# Print the RMSE scores\n",
    "print('RMSE scores:', rmse_scores)\n",
    "print('Average RMSE:', rmse_scores.mean())\n",
    "print('Standard deviation:', rmse_scores.std())\n"
   ]
  },
  {
   "cell_type": "code",
   "execution_count": 72,
   "id": "97ea9d5f",
   "metadata": {},
   "outputs": [
    {
     "name": "stdout",
     "output_type": "stream",
     "text": [
      "Predictions: [2065.52833864 3979.23974756 1090.10299656 3090.5100452   577.04733984\n",
      "  789.39648504 2881.5680275  2823.07736647 2881.27696232 1028.13833271]\n",
      "R-squared score on training data: 0.5638369082389556\n"
     ]
    }
   ],
   "source": [
    "# Load the dataset into a pandas DataFrame\n",
    "print('Predictions:', predictions)\n",
    "\n",
    "# Calculate R-squared score on training data\n",
    "y_pred_train = model.predict(X_train)\n",
    "r2score_train = r2_score(y_train, y_pred_train)\n",
    "print('R-squared score on training data:', r2score_train)\n",
    "\n",
    "# Calculate R-squared score on testing data\n",
    "X_test = pd.read_csv('test.csv')\n",
    "X_test['Item_Weight'].fillna(X_test['Item_Weight'].mean(), inplace=True)\n",
    "X_test['Outlet_Size'].fillna('Unknown', inplace=True)\n",
    "X_test = pd.get_dummies(X_test, columns=['Item_Fat_Content', 'Outlet_Location_Type', 'Outlet_Type', 'Outlet_Size'])\n",
    "X_test = pd.concat([X_test, pd.DataFrame(columns=encoder.get_feature_names_out(['Item_Type']))]) # add columns for all possible Item_Type values\n",
    "X_test[['Item_Weight', 'Item_Visibility', 'Item_MRP']] = scaler.transform(X_test[['Item_Weight', 'Item_Visibility', 'Item_MRP']]) # scale numerical features\n",
    "X_test = X_test.fillna(0) # fill any missing values with zeros\n",
    "X_test[item_type_df.columns] = encoder.transform(X_test[['Item_Type']]) # use the same encoder to transform the Item_Type column"
   ]
  },
  {
   "cell_type": "markdown",
   "id": "b81fa71d",
   "metadata": {},
   "source": [
    "Model Selection"
   ]
  },
  {
   "cell_type": "code",
   "execution_count": 86,
   "id": "592a025b",
   "metadata": {},
   "outputs": [
    {
     "name": "stdout",
     "output_type": "stream",
     "text": [
      "LR: 0.560661 (0.016248)\n",
      "RF: 0.556094 (0.020910)\n"
     ]
    },
    {
     "data": {
      "image/png": "[encoded data removed]",
      "text/plain": [
       "<Figure size 720x432 with 1 Axes>"
      ]
     },
     "metadata": {
      "needs_background": "light"
     },
     "output_type": "display_data"
    }
   ],
   "source": [
    "from sklearn.model_selection import KFold, cross_val_score\n",
    "from sklearn.linear_model import LinearRegression\n",
    "from sklearn.ensemble import RandomForestRegressor\n",
    "from sklearn.metrics import r2_score\n",
    "\n",
    "# Define a list of models to evaluate\n",
    "models = [\n",
    "    ('LR', LinearRegression()),\n",
    "    ('RF', RandomForestRegressor())\n",
    "]\n",
    "\n",
    "# Evaluate each model using k-fold cross-validation\n",
    "results = []\n",
    "names = []\n",
    "kfold = KFold(n_splits=10, shuffle=True, random_state=42)\n",
    "for name, model in models:\n",
    "    cv_results = cross_val_score(model, X_train, y_train, cv=kfold, scoring='r2')\n",
    "    results.append(cv_results)\n",
    "    names.append(name)\n",
    "    print('%s: %f (%f)' % (name, cv_results.mean(), cv_results.std()))\n",
    "\n",
    "# Compare model performance using boxplots\n",
    "import matplotlib.pyplot as plt\n",
    "fig = plt.figure(figsize=(10,6))\n",
    "fig.suptitle('Model Comparison')\n",
    "ax = fig.add_subplot(111)\n",
    "plt.boxplot(results)\n",
    "ax.set_xticklabels(names)\n",
    "plt.show()\n"
   ]
  },
  {
   "cell_type": "code",
   "execution_count": null,
   "id": "1e996c28",
   "metadata": {},
   "outputs": [],
   "source": []
  }
 ],
 "metadata": {
  "kernelspec": {
   "display_name": "Python 3 (ipykernel)",
   "language": "python",
   "name": "python3"
  },
  "language_info": {
   "codemirror_mode": {
    "name": "ipython",
    "version": 3
   },
   "file_extension": ".py",
   "mimetype": "text/x-python",
   "name": "python",
   "nbconvert_exporter": "python",
   "pygments_lexer": "ipython3",
   "version": "3.9.12"
  }
 },
 "nbformat": 4,
 "nbformat_minor": 5
}
